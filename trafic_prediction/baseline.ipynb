{
 "cells": [
  {
   "cell_type": "markdown",
   "metadata": {},
   "source": [
    "# Baseline \n",
    "1. 데이터 전처리 \n",
    "\n",
    "- 범주형 데이터 label encoding \n",
    "- na 값 처리 (범주형: 최빈값 대체, 연속형: 평균값 대체)\n",
    "\n",
    "2. 예측 모델 \n",
    "- Linear Regression\n",
    "- Random Forest regressor \n"
   ]
  },
  {
   "cell_type": "code",
   "execution_count": 2,
   "metadata": {},
   "outputs": [],
   "source": [
    "import pandas as pd \n",
    "import numpy as np\n",
    "\n",
    "from sklearn.preprocessing import LabelEncoder\n",
    "from sklearn.model_selection import train_test_split\n",
    "\n",
    "from sklearn.linear_model import LinearRegression\n",
    "from sklearn.ensemble import RandomForestRegressor \n",
    "import xgboost \n",
    "from sklearn.ensemble import GradientBoostingRegressor\n",
    "\n",
    "from sklearn.metrics import mean_absolute_error\n",
    "\n",
    "from tqdm import tqdm\n"
   ]
  },
  {
   "cell_type": "markdown",
   "metadata": {},
   "source": [
    "# 1. Import Data "
   ]
  },
  {
   "cell_type": "code",
   "execution_count": 3,
   "metadata": {},
   "outputs": [],
   "source": [
    "train = pd.read_csv('./data/train.csv')\n",
    "test = pd.read_csv('./data/test.csv')\n",
    "\n",
    "data_info = pd.read_csv('./data/data_info.csv')\n",
    "sample_submission = pd.read_csv('./data/sample_submission.csv')"
   ]
  },
  {
   "cell_type": "markdown",
   "metadata": {},
   "source": [
    "# 2. Data Preprocessing "
   ]
  },
  {
   "cell_type": "markdown",
   "metadata": {},
   "source": [
    "## 2.1 Label Encoding"
   ]
  },
  {
   "cell_type": "code",
   "execution_count": 4,
   "metadata": {},
   "outputs": [],
   "source": [
    "cat = ['day_of_week','road_name','start_node_name','start_turn_restricted','end_node_name','end_turn_restricted']"
   ]
  },
  {
   "cell_type": "code",
   "execution_count": 5,
   "metadata": {},
   "outputs": [],
   "source": [
    "class LabelEncoderExt(object):\n",
    "    def __init__(self):\n",
    "        self.label_encoder = LabelEncoder()\n",
    "\n",
    "    def fit(self, data_list):\n",
    "        self.label_encoder = self.label_encoder.fit(list(data_list) + ['Unknown'])\n",
    "        self.classes_ = self.label_encoder.classes_\n",
    "\n",
    "        return self\n",
    "\n",
    "    def transform(self, data_list):\n",
    "        new_data_list = list(data_list)\n",
    "        for unique_item in np.unique(data_list):\n",
    "            if unique_item not in self.label_encoder.classes_:\n",
    "                new_data_list = ['Unknown' if x==unique_item else x for x in new_data_list]\n",
    "\n",
    "        return self.label_encoder.transform(new_data_list)"
   ]
  },
  {
   "cell_type": "code",
   "execution_count": 6,
   "metadata": {},
   "outputs": [],
   "source": [
    "le = LabelEncoderExt()\n",
    "\n",
    "for label in cat: \n",
    "    le.fit(train[label]) \n",
    "    train[label] = le.transform(train[label])\n",
    "    test[label] = le.transform(test[label])"
   ]
  },
  {
   "cell_type": "markdown",
   "metadata": {},
   "source": [
    "## 2.2 Fill Na "
   ]
  },
  {
   "cell_type": "markdown",
   "metadata": {},
   "source": [
    "check na "
   ]
  },
  {
   "cell_type": "code",
   "execution_count": 11,
   "metadata": {},
   "outputs": [
    {
     "data": {
      "text/plain": [
       "id                       0\n",
       "base_date                0\n",
       "day_of_week              0\n",
       "base_hour                0\n",
       "lane_count               0\n",
       "road_rating              0\n",
       "road_name                0\n",
       "multi_linked             0\n",
       "connect_code             0\n",
       "maximum_speed_limit      0\n",
       "vehicle_restricted       0\n",
       "weight_restricted        0\n",
       "height_restricted        0\n",
       "road_type                0\n",
       "start_node_name          0\n",
       "start_latitude           0\n",
       "start_longitude          0\n",
       "start_turn_restricted    0\n",
       "end_node_name            0\n",
       "end_latitude             0\n",
       "end_longitude            0\n",
       "end_turn_restricted      0\n",
       "target                   0\n",
       "dtype: int64"
      ]
     },
     "execution_count": 11,
     "metadata": {},
     "output_type": "execute_result"
    }
   ],
   "source": [
    "train.isnull().sum()"
   ]
  },
  {
   "cell_type": "code",
   "execution_count": 12,
   "metadata": {},
   "outputs": [
    {
     "data": {
      "text/plain": [
       "id                       0\n",
       "base_date                0\n",
       "day_of_week              0\n",
       "base_hour                0\n",
       "lane_count               0\n",
       "road_rating              0\n",
       "road_name                0\n",
       "multi_linked             0\n",
       "connect_code             0\n",
       "maximum_speed_limit      0\n",
       "vehicle_restricted       0\n",
       "weight_restricted        0\n",
       "height_restricted        0\n",
       "road_type                0\n",
       "start_node_name          0\n",
       "start_latitude           0\n",
       "start_longitude          0\n",
       "start_turn_restricted    0\n",
       "end_node_name            0\n",
       "end_latitude             0\n",
       "end_longitude            0\n",
       "end_turn_restricted      0\n",
       "dtype: int64"
      ]
     },
     "execution_count": 12,
     "metadata": {},
     "output_type": "execute_result"
    }
   ],
   "source": [
    "test.isnull().sum()"
   ]
  },
  {
   "cell_type": "markdown",
   "metadata": {},
   "source": [
    "no na data to fill"
   ]
  },
  {
   "cell_type": "markdown",
   "metadata": {},
   "source": [
    "# 3. Modeling "
   ]
  },
  {
   "cell_type": "markdown",
   "metadata": {},
   "source": [
    "split data"
   ]
  },
  {
   "cell_type": "code",
   "execution_count": 7,
   "metadata": {},
   "outputs": [],
   "source": [
    "all_train_x = train.drop(['id','target'],axis=1)\n",
    "all_train_y = train.target\n",
    "\n",
    "train_x, val_x, train_y, val_y = train_test_split(all_train_x, all_train_y, test_size=0.1, shuffle=True)\n",
    "\n",
    "test_x = test.drop(['id'],axis=1)"
   ]
  },
  {
   "cell_type": "code",
   "execution_count": 8,
   "metadata": {},
   "outputs": [
    {
     "data": {
      "text/plain": [
       "GradientBoostingRegressor()"
      ]
     },
     "execution_count": 8,
     "metadata": {},
     "output_type": "execute_result"
    }
   ],
   "source": [
    "gb = GradientBoostingRegressor()\n",
    "gb.fit(all_train_x, all_train_y)"
   ]
  },
  {
   "cell_type": "code",
   "execution_count": null,
   "metadata": {},
   "outputs": [],
   "source": [
    "gb_pred = gb.predict(test_x)\n",
    "\n",
    "gb_submission = sample_submission.copy()\n",
    "gb_submission[\"target\"] = gb_pred \n",
    "gb_submission.to_csv(\"./submissions/baseline_gb.csv\", index = False)\n"
   ]
  },
  {
   "cell_type": "markdown",
   "metadata": {},
   "source": [
    "train / get validataion score"
   ]
  },
  {
   "cell_type": "code",
   "execution_count": 14,
   "metadata": {},
   "outputs": [],
   "source": [
    "def get_baseline_scores(models,train_x,train_y, test_x, test_y):\n",
    "    scores = {}\n",
    "    for model in tqdm(models): \n",
    "        model.fit(train_x, train_y)\n",
    "        pred = model.predict(test_x)\n",
    "        score = mean_absolute_error(test_y,pred)\n",
    "        scores[str(model)] = score \n",
    "\n",
    "    return scores"
   ]
  },
  {
   "cell_type": "code",
   "execution_count": 15,
   "metadata": {},
   "outputs": [],
   "source": [
    "lr = LinearRegression(n_jobs=-1)\n",
    "rf = RandomForestRegressor(n_jobs=-1) \n",
    "xgb = xgboost.XGBRegressor(n_jobs=-1)\n",
    "\n",
    "models = [lr,rf,xgb]"
   ]
  },
  {
   "cell_type": "code",
   "execution_count": 16,
   "metadata": {},
   "outputs": [
    {
     "name": "stderr",
     "output_type": "stream",
     "text": [
      "100%|██████████| 3/3 [06:55<00:00, 138.60s/it]\n"
     ]
    }
   ],
   "source": [
    "val_baseline_socres = get_baseline_scores(models, train_x, train_y, val_x, val_y)"
   ]
  },
  {
   "cell_type": "code",
   "execution_count": 17,
   "metadata": {},
   "outputs": [
    {
     "data": {
      "text/plain": [
       "{'LinearRegression(n_jobs=-1)': 10.209791137710447,\n",
       " 'RandomForestRegressor(n_jobs=-1)': 2.8345501380492735,\n",
       " \"XGBRegressor(base_score=0.5, booster='gbtree', callbacks=None,\\n             colsample_bylevel=1, colsample_bynode=1, colsample_bytree=1,\\n             early_stopping_rounds=None, enable_categorical=False,\\n             eval_metric=None, gamma=0, gpu_id=-1, grow_policy='depthwise',\\n             importance_type=None, interaction_constraints='',\\n             learning_rate=0.300000012, max_bin=256, max_cat_to_onehot=4,\\n             max_delta_step=0, max_depth=6, max_leaves=0, min_child_weight=1,\\n             missing=nan, monotone_constraints='()', n_estimators=100,\\n             n_jobs=-1, num_parallel_tree=1, predictor='auto', random_state=0,\\n             reg_alpha=0, reg_lambda=1, ...)\": 3.8367852320240963}"
      ]
     },
     "execution_count": 17,
     "metadata": {},
     "output_type": "execute_result"
    }
   ],
   "source": [
    "val_baseline_socres"
   ]
  },
  {
   "cell_type": "markdown",
   "metadata": {},
   "source": [
    "retrain on hole training data"
   ]
  },
  {
   "cell_type": "code",
   "execution_count": 18,
   "metadata": {},
   "outputs": [
    {
     "name": "stderr",
     "output_type": "stream",
     "text": [
      "100%|██████████| 3/3 [07:37<00:00, 152.62s/it]\n"
     ]
    }
   ],
   "source": [
    "test_preds = [] \n",
    "for model in tqdm(models):\n",
    "    model.fit(all_train_x,all_train_y)\n",
    "    pred = model.predict(test_x)\n",
    "    test_preds.append(pred)   "
   ]
  },
  {
   "cell_type": "markdown",
   "metadata": {},
   "source": [
    "# 4. Submission "
   ]
  },
  {
   "cell_type": "code",
   "execution_count": 40,
   "metadata": {},
   "outputs": [],
   "source": [
    "baseline_lr = sample_submission.copy()\n",
    "baseline_rf = sample_submission.copy()\n",
    "baseline_xgb = sample_submission.copy() \n",
    "\n",
    "baseline_lr['target'] = test_preds[0]\n",
    "baseline_rf['target'] = test_preds[1]\n",
    "baseline_xgb['target'] = test_preds[2]\n",
    "\n",
    "baseline_lr.to_csv(\"./submissions/baseline_lr.csv\", index = False)\n",
    "baseline_rf.to_csv(\"./submissions/baseline_rf.csv\", index = False)\n",
    "baseline_xgb.to_csv(\"./submissions/baseline_xgb.csv\", index = False)\n"
   ]
  }
 ],
 "metadata": {
  "kernelspec": {
   "display_name": "Python 3.7.13 ('main_env')",
   "language": "python",
   "name": "python3"
  },
  "language_info": {
   "codemirror_mode": {
    "name": "ipython",
    "version": 3
   },
   "file_extension": ".py",
   "mimetype": "text/x-python",
   "name": "python",
   "nbconvert_exporter": "python",
   "pygments_lexer": "ipython3",
   "version": "3.7.13"
  },
  "orig_nbformat": 4,
  "vscode": {
   "interpreter": {
    "hash": "1153c11ae87076ae6621cdc5d7329613c33efc385af2aabe3f954ec07174675d"
   }
  }
 },
 "nbformat": 4,
 "nbformat_minor": 2
}
