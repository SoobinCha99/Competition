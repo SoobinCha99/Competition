{
 "cells": [
  {
   "cell_type": "code",
   "execution_count": 1,
   "metadata": {},
   "outputs": [],
   "source": [
    "import pandas as pd \n",
    "\n"
   ]
  },
  {
   "cell_type": "code",
   "execution_count": 3,
   "metadata": {},
   "outputs": [],
   "source": [
    "rf = pd.read_csv('./submissions/phase2_rf.csv')\n",
    "xgb = pd.read_csv('./submissions/baseline_xgb.csv')\n",
    "gb = pd.read_csv('./submissions/baseline_gb.csv')"
   ]
  },
  {
   "cell_type": "code",
   "execution_count": 6,
   "metadata": {},
   "outputs": [],
   "source": [
    "sample_sumission = pd.read_csv('./data/sample_submission.csv')"
   ]
  },
  {
   "cell_type": "code",
   "execution_count": 4,
   "metadata": {},
   "outputs": [],
   "source": [
    "rf_pred = rf.target\n",
    "xgb_pred = xgb.target\n",
    "gb_pred = gb.target "
   ]
  },
  {
   "cell_type": "code",
   "execution_count": 5,
   "metadata": {},
   "outputs": [],
   "source": [
    "rf_xgb = (rf_pred + xgb_pred) / 2 \n",
    "rf_gb = (rf_pred + gb_pred) / 2 \n",
    "xgb_gb = (xgb_pred + gb_pred) /2 \n",
    "\n",
    "rf_xgb_gb = (rf_pred + xgb_pred + gb_pred) / 3 "
   ]
  },
  {
   "cell_type": "code",
   "execution_count": 7,
   "metadata": {},
   "outputs": [],
   "source": [
    "rf_xgb_baseline_ensemble = sample_sumission.copy() \n",
    "rf_gb_baseline_ensemble = sample_sumission.copy()\n",
    "gb_xgb_baselin_ensemble = sample_sumission.copy()\n",
    "\n",
    "rf_xgb_gb_baseline_ensemble = sample_sumission.copy()\n",
    "\n",
    "rf_xgb_baseline_ensemble['target'] = rf_xgb\n",
    "rf_gb_baseline_ensemble['target'] = rf_gb \n",
    "gb_xgb_baselin_ensemble['target'] = xgb_gb\n",
    "\n",
    "rf_xgb_gb_baseline_ensemble['target'] = rf_xgb_gb\n",
    "\n",
    "rf_xgb_baseline_ensemble.to_csv('./submissions/rf_xgb_baseline_ensemble.csv',index=False)\n",
    "rf_gb_baseline_ensemble.to_csv('./submissions/rf_gb_baseline_ensemble.csv',index=False)\n",
    "gb_xgb_baselin_ensemble.to_csv('./submissions/gb_xgb_baseline_ensemble.csv',index=False)\n",
    "\n",
    "rf_xgb_gb_baseline_ensemble.to_csv('./submissions/rf_xgb_gb_baseline_ensemble.csv',index=False)"
   ]
  },
  {
   "cell_type": "code",
   "execution_count": null,
   "metadata": {},
   "outputs": [],
   "source": []
  }
 ],
 "metadata": {
  "kernelspec": {
   "display_name": "Python 3.7.13 ('main_env')",
   "language": "python",
   "name": "python3"
  },
  "language_info": {
   "codemirror_mode": {
    "name": "ipython",
    "version": 3
   },
   "file_extension": ".py",
   "mimetype": "text/x-python",
   "name": "python",
   "nbconvert_exporter": "python",
   "pygments_lexer": "ipython3",
   "version": "3.7.13"
  },
  "orig_nbformat": 4,
  "vscode": {
   "interpreter": {
    "hash": "1153c11ae87076ae6621cdc5d7329613c33efc385af2aabe3f954ec07174675d"
   }
  }
 },
 "nbformat": 4,
 "nbformat_minor": 2
}
